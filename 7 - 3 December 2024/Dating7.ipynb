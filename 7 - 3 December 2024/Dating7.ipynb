{
 "cells": [
  {
   "cell_type": "code",
   "execution_count": 8,
   "metadata": {},
   "outputs": [],
   "source": [
    "from sklearn.tree import DecisionTreeClassifier\n",
    "from sklearn import datasets\n",
    "import matplotlib.pyplot as plt"
   ]
  },
  {
   "cell_type": "code",
   "execution_count": 9,
   "metadata": {},
   "outputs": [],
   "source": [
    "iris = datasets.load_iris()\n",
    "features = iris['data']\n",
    "target = iris['target']"
   ]
  },
  {
   "cell_type": "code",
   "execution_count": 10,
   "metadata": {},
   "outputs": [],
   "source": [
    "decisiontree = DecisionTreeClassifier(random_state=0,\n",
    "    max_depth=None, min_samples_split=2,\n",
    "    min_samples_leaf=1, min_weight_fraction_leaf=0,\n",
    "    max_leaf_nodes=None, min_impurity_decrease=0)"
   ]
  },
  {
   "cell_type": "code",
   "execution_count": 11,
   "metadata": {},
   "outputs": [],
   "source": [
    "model= decisiontree.fit(features, target)"
   ]
  },
  {
   "cell_type": "code",
   "execution_count": 12,
   "metadata": {},
   "outputs": [
    {
     "data": {
      "text/plain": [
       "array([[0., 1., 0.]])"
      ]
     },
     "execution_count": 12,
     "metadata": {},
     "output_type": "execute_result"
    }
   ],
   "source": [
    "observation = [[5, 4, 3, 2]]\n",
    "model.predict(observation)\n",
    "model.predict_proba(observation)"
   ]
  },
  {
   "cell_type": "code",
   "execution_count": 13,
   "metadata": {},
   "outputs": [
    {
     "data": {
      "text/plain": [
       "True"
      ]
     },
     "execution_count": 13,
     "metadata": {},
     "output_type": "execute_result"
    }
   ],
   "source": [
    "import pydotplus\n",
    "from sklearn import tree\n",
    "dot_data = tree.export_graphviz(decisiontree, out_file=None,\n",
    "    feature_names=iris['feature_names'], class_names=iris['target_names'])\n",
    "from IPython.display import Image\n",
    "graph = pydotplus.graph_from_dot_data(dot_data)\n",
    "Image(graph.create_png())\n",
    "graph.write_png(\"iris.png\")"
   ]
  },
  {
   "cell_type": "code",
   "execution_count": 14,
   "metadata": {},
   "outputs": [],
   "source": [
    "#import numpy, pandas dan scikit-learn\n",
    "import numpy as np\n",
    "import pandas as pd\n",
    "from sklearn import tree\n",
    "\n",
    "#membaca dataset dari file ke pandas dataFrame\n",
    "irisDataset = pd.read_csv('iris.csv',\n",
    "                          delimiter=';', header=0)\n",
    "\n",
    "#mengubah kelas (kolom \"Species\") dari string ke unique-integer\n",
    "irisDataset[\"Species\"] = pd.factorize(irisDataset.Species)[0]\n",
    "\n",
    "#menghapus kolom \"Id\"\n",
    "irisDataset = irisDataset.drop(labels=\"Id\", axis=1)\n",
    "\n",
    "#mengubah dataframe ke array numpy\n",
    "#irisDataset = irisDataset.as_matrix()\n",
    "irisDataset = irisDataset.to_numpy()"
   ]
  },
  {
   "cell_type": "code",
   "execution_count": 15,
   "metadata": {},
   "outputs": [],
   "source": [
    "# membagi dataset, 40 baris data untuk training\n",
    "# dan 20 baris data untuk testing\n",
    "dataTraining = np.concatenate((irisDataset[0:40,:],\n",
    "                               irisDataset[50:90,:]), axis=0)\n",
    "dataTesting = np.concatenate((irisDataset[40:50,:],\n",
    "                              irisDataset[90:100,:]), axis=0)\n",
    "\n",
    "# memecah dataset ke input dan label\n",
    "inputTraining = dataTraining[:,0:4]\n",
    "inputTesting = dataTesting[:,0:4]\n",
    "labelTraining = dataTraining[:,4]\n",
    "labelTesting = dataTesting[:, 4]"
   ]
  },
  {
   "cell_type": "code",
   "execution_count": 16,
   "metadata": {},
   "outputs": [
    {
     "name": "stdout",
     "output_type": "stream",
     "text": [
      "label sebenarnya  [0. 0. 0. 0. 0. 0. 0. 0. 0. 0. 1. 1. 1. 1. 1. 1. 1. 1. 1. 1.]\n",
      "hasil prediksi:  [0. 0. 0. 0. 0. 0. 0. 0. 0. 0. 1. 1. 1. 1. 1. 1. 1. 1. 1. 1.]\n",
      "prediksi benar:  20  data\n",
      "prediksi salah:  0  data\n",
      "akurasi:  100.0 %\n"
     ]
    }
   ],
   "source": [
    "#mendefinisikan decision tree classifier\n",
    "model = tree.DecisionTreeClassifier()\n",
    "\n",
    "#mentraining model\n",
    "model = model.fit(inputTraining, labelTraining)\n",
    "\n",
    "#memprediksi input data testing\n",
    "hasilPrediksi = model.predict(inputTesting)\n",
    "print(\"label sebenarnya \", labelTesting)\n",
    "print(\"hasil prediksi: \", hasilPrediksi)\n",
    "\n",
    "#menghitung akurasi\n",
    "prediksiBenar = (hasilPrediksi == labelTesting).sum()\n",
    "prediksiSalah = (hasilPrediksi != labelTesting).sum()\n",
    "print(\"prediksi benar: \", prediksiBenar, \" data\")\n",
    "print(\"prediksi salah: \", prediksiSalah, \" data\")\n",
    "print(\"akurasi: \", prediksiBenar/(prediksiBenar+prediksiSalah) * 100, \"%\")"
   ]
  }
 ],
 "metadata": {
  "kernelspec": {
   "display_name": ".venv",
   "language": "python",
   "name": "python3"
  },
  "language_info": {
   "codemirror_mode": {
    "name": "ipython",
    "version": 3
   },
   "file_extension": ".py",
   "mimetype": "text/x-python",
   "name": "python",
   "nbconvert_exporter": "python",
   "pygments_lexer": "ipython3",
   "version": "3.12.7"
  }
 },
 "nbformat": 4,
 "nbformat_minor": 2
}
